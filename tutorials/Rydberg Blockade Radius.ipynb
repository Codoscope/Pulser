{
 "cells": [
  {
   "cell_type": "markdown",
   "metadata": {},
   "source": [
    "# Rydberg Blockade Radius"
   ]
  },
  {
   "cell_type": "markdown",
   "metadata": {},
   "source": [
    "In this notebook we will use Pulser to simulate a sequence of succesive $\\pi$-pulses on a two atom system, each one coupling the atom to its excited Rydberg state. We will vary the interatomic distance and observe where do we begin to observe a strong *Rydberg Blockade* effect. This effect is due to the presence of a van der Waals interaction when both atoms are in the Rydberg state, and prevents the collective ground state $|gg\\rangle$ to couple to $|rr\\rangle$, which is shifted out of resonance. More details can be found in [2002.07413](https://arxiv.org/pdf/2002.07413) "
   ]
  },
  {
   "cell_type": "code",
   "execution_count": null,
   "metadata": {},
   "outputs": [],
   "source": [
    "import numpy as np\n",
    "import matplotlib.pyplot as plt\n",
    "import qutip"
   ]
  },
  {
   "cell_type": "code",
   "execution_count": null,
   "metadata": {},
   "outputs": [],
   "source": [
    "from pulser import Pulse, Sequence, Register, Simulation\n",
    "from pulser.devices import Chadoq2\n",
    "from pulser.waveforms import BlackmanWaveform"
   ]
  },
  {
   "cell_type": "code",
   "execution_count": null,
   "metadata": {},
   "outputs": [],
   "source": [
    "duration = 1000 # Typical: ~1 µsec\n",
    "pi_pulse = Pulse.ConstantDetuning(BlackmanWaveform(duration, np.pi), 0., 0)\n",
    "pi_pulse.draw()"
   ]
  },
  {
   "cell_type": "markdown",
   "metadata": {},
   "source": [
    "The pulse that we created will act as a $\\frac{\\hbar \\Omega_i(t)}{2} \\sigma_i^x$ term in the effective Hamiltonian of our system, for $i$ labelling any of the atoms. In addition, we express the shift in energy from the van der Waals interaction between the atoms $1$ and $2$ as $U n_1n_2$, where $n_i = |r\\rangle \\langle r|_i$ and $U = C_6/R^6$. The constant $C_6$ depends on the specific chosen Rydberg level, which in our case is predetermined in the Pasqal device ($C_6/\\hbar \\approx 5008$ GHz.$\\mu m^6$). Our effective Hamiltonian is then:\n",
    "\n",
    "$$H = \\frac{\\hbar \\Omega_1(t)}{2} \\sigma_1^x + \\frac{\\hbar \\Omega_2(t)}{2} \\sigma_2^x + U n_1n_2 $$\n",
    "\n",
    "We impose the blockade condition as $\\hbar \\Omega_{max} \\ll U$ and solve for $R = R_{\\text{blockade}}$ obtaining:"
   ]
  },
  {
   "cell_type": "code",
   "execution_count": null,
   "metadata": {},
   "outputs": [],
   "source": [
    "Omega_max = np.max(pi_pulse.amplitude.samples)\n",
    "R_blockade = Chadoq2.rydberg_blockade_radius(Omega_max)\n",
    "print(R_blockade)"
   ]
  },
  {
   "cell_type": "markdown",
   "metadata": {},
   "source": [
    "We shall define a register of two atoms, for several distances $R$:"
   ]
  },
  {
   "cell_type": "code",
   "execution_count": null,
   "metadata": {},
   "outputs": [],
   "source": [
    "data = []\n",
    "divisions = 7\n",
    "distances = np.linspace(6.5,14,divisions)\n",
    "\n",
    "r = [1,0]\n",
    "rr = np.kron(r,r) # |rr>\n",
    "occup = [np.outer(rr, np.conj(rr))]  # |rr><rr|\n",
    "\n",
    "for i,R in enumerate(distances):\n",
    "    print(f'{divisions-i} remaining...')\n",
    "    # Atom Register and Device\n",
    "    reg = Register.rectangle(1,2,spacing=R, prefix='atom')\n",
    "    #reg.draw()\n",
    "\n",
    "    # Pulse Sequence\n",
    "    seq = Sequence(reg, Chadoq2)\n",
    "    seq.declare_channel('ryd','rydberg_local','atom0')\n",
    "    seq.declare_channel('ryd2','rydberg_local2','atom1')\n",
    "    seq.add(pi_pulse,'ryd')\n",
    "    seq.align('ryd','ryd2')\n",
    "    seq.add(pi_pulse,'ryd2')\n",
    "    #seq.draw()\n",
    "\n",
    "    sim = Simulation(seq)\n",
    "    plt.show()\n",
    "    \n",
    "    res = sim.run()  # Returns a SimulationResults instance\n",
    "    data.append(res.expect(occup)[0])\n",
    "print(\"Done!\")"
   ]
  },
  {
   "cell_type": "markdown",
   "metadata": {},
   "source": [
    "We plot the results"
   ]
  },
  {
   "cell_type": "code",
   "execution_count": null,
   "metadata": {},
   "outputs": [],
   "source": [
    "for i,R in enumerate(distances):\n",
    "    plt.plot(data[i], label=f'R={R}')\n",
    "    plt.xlabel('Time (ns)', fontsize=14)\n",
    "    plt.ylabel(r'Occupation of $|rr\\rangle$', fontsize=14)\n",
    "    plt.legend()"
   ]
  },
  {
   "cell_type": "markdown",
   "metadata": {},
   "source": [
    "Notice how the occupation of $|rr\\rangle$ is suppressed for decreasing $R$, in particular below our estimated Rydberg blockade radius, $R \\lesssim 9.35\\mu m$. Once the interatomic distance grows, the excited Rydberg state $|rr\\rangle$ becomes populated again: the blockade effect is lost."
   ]
  }
 ],
 "metadata": {
  "kernelspec": {
   "display_name": "Python 3",
   "language": "python",
   "name": "python3"
  },
  "language_info": {
   "codemirror_mode": {
    "name": "ipython",
    "version": 3
   },
   "file_extension": ".py",
   "mimetype": "text/x-python",
   "name": "python",
   "nbconvert_exporter": "python",
   "pygments_lexer": "ipython3",
   "version": "3.9.0"
  }
 },
 "nbformat": 4,
 "nbformat_minor": 4
}
